{
 "cells": [
  {
   "cell_type": "markdown",
   "id": "gorgeous-belle",
   "metadata": {},
   "source": [
    "# Query environment"
   ]
  },
  {
   "cell_type": "code",
   "execution_count": null,
   "id": "alpha-ballot",
   "metadata": {
    "scrolled": true
   },
   "outputs": [],
   "source": [
    "#Be aware of your Jupyter environment stack:\n",
    "display(Base.load_path())"
   ]
  },
  {
   "cell_type": "markdown",
   "id": "ancient-candle",
   "metadata": {},
   "source": [
    "# Setup environment"
   ]
  },
  {
   "cell_type": "code",
   "execution_count": null,
   "id": "special-closer",
   "metadata": {},
   "outputs": [],
   "source": [
    "using CMDimData\n",
    "using CMDimData.EasyPlot\n",
    "using MDDatasets\n",
    "#using InspectDR #@includepkg adds it\n",
    "CMDimData.@includepkg EasyPlotInspect\n",
    "EasyPlot.defaults.rendersvg = false #Typically preferable in Jupyter\n",
    ":READY"
   ]
  },
  {
   "cell_type": "markdown",
   "id": "confused-entry",
   "metadata": {},
   "source": [
    "# Display plots using `display()` function"
   ]
  },
  {
   "cell_type": "code",
   "execution_count": null,
   "id": "minimal-penetration",
   "metadata": {},
   "outputs": [],
   "source": [
    "#Generate plot\n",
    "x = DataF1(-10:10)\n",
    "dfltline = cons(:a, line=set(style=:solid, size=3, color=:red))\n",
    "plot = cons(:plot, title = \"Polynomial Equations\",\n",
    "    xyaxes=set(xscale=:lin, yscale=:lin),\n",
    "    labels=set(xaxis=\"X-Axis Label\", yaxis=\"Y-Axis Label\"),\n",
    ")\n",
    "push!(plot,\n",
    "    cons(:wfrm, 3x+2, label=\"3x+2\"),\n",
    "    cons(:wfrm, (x-2)^2+3, label=\"(x-2)²+3\"),\n",
    ")\n",
    "pcoll = push!(cons(:plot_collection, title=\"Sample Plot\"), plot)\n",
    "\n",
    "println(\"Display plot object as simple text:\"); flush(stdout)\n",
    "EasyPlot.defaults.mimebuilder = nothing\n",
    "display(pcoll) #Should write out as text\n",
    "\n",
    "println(\"Display inline plot using InspectDR backend:\"); flush(stdout)\n",
    "EasyPlot.defaults.mimebuilder = EasyPlot.getbuilder(:image, :InspectDR)\n",
    "display(pcoll) #Should render using InspectDR\n",
    "\n",
    ":DONE"
   ]
  },
  {
   "cell_type": "markdown",
   "id": "coastal-vertical",
   "metadata": {},
   "source": [
    "# Test implicit plotting of last statement"
   ]
  },
  {
   "cell_type": "code",
   "execution_count": null,
   "id": "infectious-stable",
   "metadata": {},
   "outputs": [],
   "source": [
    "pcoll #Should render using InspectDR again"
   ]
  },
  {
   "cell_type": "markdown",
   "id": "chinese-wholesale",
   "metadata": {},
   "source": [
    "# DONE"
   ]
  }
 ],
 "metadata": {
  "@webio": {
   "lastCommId": "5485e57713654e58840af5039a7b1061",
   "lastKernelId": "4d70a4cc-c5c2-4b8c-a3f0-e84b7b0c8e62"
  },
  "kernelspec": {
   "display_name": "Julia 1.5.3",
   "language": "julia",
   "name": "julia-1.5"
  },
  "language_info": {
   "file_extension": ".jl",
   "mimetype": "application/julia",
   "name": "julia",
   "version": "1.5.3"
  }
 },
 "nbformat": 4,
 "nbformat_minor": 5
}
